{
 "cells": [
  {
   "cell_type": "code",
   "execution_count": 9,
   "metadata": {},
   "outputs": [],
   "source": [
    "import pandas as pd\n",
    "import numpy as np\n",
    "from pathlib import Path\n",
    "import sklearn.neighbors\n",
    "import sys\n",
    "sys.path.append('C:/Users/petera/Documents/Envirodual/paths')\n",
    "sys.path.append('C:/Users/petera/Documents/Envirodual/values')\n",
    "from path_definition import all_cities, city_paths, model\n",
    "from values import OB_MID_dict, area_use_codes, area_use_columns, heated_area_codes\n",
    "import warnings\n",
    "warnings.filterwarnings('ignore')"
   ]
  },
  {
   "cell_type": "code",
   "execution_count": 10,
   "metadata": {},
   "outputs": [],
   "source": [
    "city_name = 'kranj'\n",
    "OB_MID = OB_MID_dict[city_name]\n",
    "paths = city_paths[city_name]"
   ]
  },
  {
   "cell_type": "markdown",
   "metadata": {},
   "source": [
    "## Read REN data"
   ]
  },
  {
   "cell_type": "code",
   "execution_count": 11,
   "metadata": {},
   "outputs": [],
   "source": [
    "# columns to load from tables\n",
    "cols_stavbe = ['STA_SID',\n",
    "               'OB_MID',\n",
    "               'ST_ETAZ',\n",
    "               'ST_PRIT_ETAZE',\n",
    "               'ST_STANOVANJ',\n",
    "               'ST_POSLOVNIH_PROSTOROV',\n",
    "               'DEJANSKA_RABA',\n",
    "               'ID_TIP_STAVBE',\n",
    "               'LETO_IZG_STA',\n",
    "               'LETO_OBN_STREHE',\n",
    "               'LETO_OBN_FASADE',\n",
    "               'ID_KONSTRUKCIJE',\n",
    "               'ID_OGREVANJE']"
   ]
  },
  {
   "cell_type": "code",
   "execution_count": 12,
   "metadata": {},
   "outputs": [],
   "source": [
    "# read stavbe\n",
    "stavbe_path = all_cities['root'] / all_cities['stavbe']\n",
    "stavbe = pd.read_csv(\n",
    "    stavbe_path,\n",
    "    usecols=cols_stavbe,\n",
    "    index_col='STA_SID',\n",
    "    # encoding='cp1250',\n",
    "    sep=';'\n",
    ")\n",
    "\n",
    "# keep only current municipality\n",
    "stavbe = stavbe[stavbe.OB_MID.eq(OB_MID)]"
   ]
  },
  {
   "cell_type": "code",
   "execution_count": 13,
   "metadata": {},
   "outputs": [],
   "source": [
    "cols_delistavb = ['STA_SID',\n",
    "                  'DEJANSKA_RABA',\n",
    "                  'UPOR_POV_STAN',\n",
    "                  'NETO_TLORIS_POV_DST',\n",
    "                  'LETO_OBN_OKEN',\n",
    "                  'ID_POCIT_RABA']\n",
    "\n",
    "# read delistavb\n",
    "delistavb_path = all_cities['root'] / all_cities['delistavb']\n",
    "delistavb = pd.read_csv(\n",
    "    delistavb_path,\n",
    "    usecols=cols_delistavb,\n",
    "    # encoding='cp1250',\n",
    "    decimal=',',\n",
    "    sep=';'\n",
    ")\n",
    "delistavb = delistavb[delistavb.STA_SID.isin(stavbe.index.unique())]"
   ]
  },
  {
   "cell_type": "code",
   "execution_count": 14,
   "metadata": {},
   "outputs": [],
   "source": [
    "# read sifranti\n",
    "sifranti_path = all_cities['root'] / all_cities['sifranti']\n",
    "sifranti = pd.read_csv(\n",
    "    sifranti_path,\n",
    "    # encoding='cp1250',\n",
    "    sep=';'\n",
    ")"
   ]
  },
  {
   "cell_type": "markdown",
   "metadata": {},
   "source": [
    "# Temperature deficit"
   ]
  },
  {
   "cell_type": "code",
   "execution_count": 15,
   "metadata": {},
   "outputs": [],
   "source": [
    "file_path_temp_deficit = all_cities['root'] / all_cities['temperature_deficit_cleaned']\n",
    "temp_deficit = pd.read_csv(\n",
    "    file_path_temp_deficit,\n",
    "    index_col='STA_SID',\n",
    "    usecols=['TEMP_DEFICIT','STA_SID']\n",
    ")"
   ]
  },
  {
   "cell_type": "markdown",
   "metadata": {},
   "source": [
    "# Read gas data"
   ]
  },
  {
   "cell_type": "code",
   "execution_count": 16,
   "metadata": {},
   "outputs": [],
   "source": [
    "dtype = {'ZP_gas': 'int', 'STA_SID': 'int'}\n",
    "file_path_gas = all_cities['root'] / paths['gas_cleaned']\n",
    "gas = pd.read_csv(\n",
    "    file_path_gas,\n",
    "    usecols=['ZP_gas', 'STA_SID'],\n",
    "    dtype=dtype,\n",
    "    index_col='STA_SID'\n",
    ")"
   ]
  },
  {
   "cell_type": "code",
   "execution_count": 17,
   "metadata": {},
   "outputs": [],
   "source": [
    "df = gas.join(stavbe, how='inner').join(temp_deficit, how='left')"
   ]
  },
  {
   "cell_type": "code",
   "execution_count": 18,
   "metadata": {},
   "outputs": [
    {
     "data": {
      "text/plain": [
       "((11667, 1), (11665, 14))"
      ]
     },
     "execution_count": 18,
     "metadata": {},
     "output_type": "execute_result"
    }
   ],
   "source": [
    "gas.shape, df.shape"
   ]
  },
  {
   "cell_type": "markdown",
   "metadata": {},
   "source": [
    "# Missing data REN"
   ]
  },
  {
   "cell_type": "code",
   "execution_count": 19,
   "metadata": {},
   "outputs": [],
   "source": [
    "# drop entries where areas m2 not given\n",
    "delistavb.fillna(0, inplace=True)"
   ]
  },
  {
   "cell_type": "code",
   "execution_count": 20,
   "metadata": {},
   "outputs": [],
   "source": [
    "# collect total areas of building\n",
    "df['UPORABNA_POVRSINA'] = delistavb.groupby('STA_SID')['UPOR_POV_STAN'].sum()\n",
    "df['NETO_TLORIS'] = delistavb.groupby('STA_SID')['NETO_TLORIS_POV_DST'].sum()"
   ]
  },
  {
   "cell_type": "code",
   "execution_count": 21,
   "metadata": {},
   "outputs": [],
   "source": [
    "# drop nans\n",
    "df.dropna(subset=['UPORABNA_POVRSINA', 'NETO_TLORIS'], inplace=True)"
   ]
  },
  {
   "cell_type": "code",
   "execution_count": 22,
   "metadata": {},
   "outputs": [],
   "source": [
    "# get mean windows age\n",
    "df['LETO_OBN_OKEN'] = delistavb.groupby('STA_SID')['LETO_OBN_OKEN'].median().astype(int)"
   ]
  },
  {
   "cell_type": "code",
   "execution_count": 23,
   "metadata": {},
   "outputs": [
    {
     "data": {
      "text/html": [
       "<div>\n",
       "<style scoped>\n",
       "    .dataframe tbody tr th:only-of-type {\n",
       "        vertical-align: middle;\n",
       "    }\n",
       "\n",
       "    .dataframe tbody tr th {\n",
       "        vertical-align: top;\n",
       "    }\n",
       "\n",
       "    .dataframe thead th {\n",
       "        text-align: right;\n",
       "    }\n",
       "</style>\n",
       "<table border=\"1\" class=\"dataframe\">\n",
       "  <thead>\n",
       "    <tr style=\"text-align: right;\">\n",
       "      <th></th>\n",
       "      <th>Missing Ratio</th>\n",
       "    </tr>\n",
       "  </thead>\n",
       "  <tbody>\n",
       "    <tr>\n",
       "      <th>LETO_OBN_FASADE</th>\n",
       "      <td>69.898834</td>\n",
       "    </tr>\n",
       "    <tr>\n",
       "      <th>LETO_OBN_STREHE</th>\n",
       "      <td>42.189643</td>\n",
       "    </tr>\n",
       "    <tr>\n",
       "      <th>TEMP_DEFICIT</th>\n",
       "      <td>15.972222</td>\n",
       "    </tr>\n",
       "    <tr>\n",
       "      <th>ST_PRIT_ETAZE</th>\n",
       "      <td>0.342936</td>\n",
       "    </tr>\n",
       "    <tr>\n",
       "      <th>ID_OGREVANJE</th>\n",
       "      <td>0.248628</td>\n",
       "    </tr>\n",
       "    <tr>\n",
       "      <th>ST_ETAZ</th>\n",
       "      <td>0.240055</td>\n",
       "    </tr>\n",
       "    <tr>\n",
       "      <th>ID_KONSTRUKCIJE</th>\n",
       "      <td>0.214335</td>\n",
       "    </tr>\n",
       "    <tr>\n",
       "      <th>ID_TIP_STAVBE</th>\n",
       "      <td>0.205761</td>\n",
       "    </tr>\n",
       "    <tr>\n",
       "      <th>LETO_IZG_STA</th>\n",
       "      <td>0.120027</td>\n",
       "    </tr>\n",
       "    <tr>\n",
       "      <th>DEJANSKA_RABA</th>\n",
       "      <td>0.042867</td>\n",
       "    </tr>\n",
       "  </tbody>\n",
       "</table>\n",
       "</div>"
      ],
      "text/plain": [
       "                 Missing Ratio\n",
       "LETO_OBN_FASADE      69.898834\n",
       "LETO_OBN_STREHE      42.189643\n",
       "TEMP_DEFICIT         15.972222\n",
       "ST_PRIT_ETAZE         0.342936\n",
       "ID_OGREVANJE          0.248628\n",
       "ST_ETAZ               0.240055\n",
       "ID_KONSTRUKCIJE       0.214335\n",
       "ID_TIP_STAVBE         0.205761\n",
       "LETO_IZG_STA          0.120027\n",
       "DEJANSKA_RABA         0.042867"
      ]
     },
     "execution_count": 23,
     "metadata": {},
     "output_type": "execute_result"
    }
   ],
   "source": [
    "# MISSING DATA\n",
    "all_data_na = (df.isnull().sum() / len(df)) * 100\n",
    "all_data_na = all_data_na.drop(all_data_na[all_data_na == 0].index).sort_values(ascending=False)[:]\n",
    "missing_data = pd.DataFrame({'Missing Ratio' :all_data_na})\n",
    "missing_data.head(20)"
   ]
  },
  {
   "cell_type": "code",
   "execution_count": 24,
   "metadata": {},
   "outputs": [],
   "source": [
    "def fill_and_mark(df, column, value=0):\n",
    "    '''fills missing values and creates new column marking which entries have been filled'''\n",
    "    df_ = df.copy()\n",
    "    df_['NA_'+column] = 0\n",
    "    idx = df_[df_[column].isna()].index.astype('int32')\n",
    "    df_.loc[idx,'NA_'+column] = 1\n",
    "    df_[column].fillna(value, inplace=True)\n",
    "    return df_"
   ]
  },
  {
   "cell_type": "code",
   "execution_count": 25,
   "metadata": {},
   "outputs": [],
   "source": [
    "# If building rennovation year not given, set rennovation to construction year\n",
    "v = df['LETO_IZG_STA'].median()\n",
    "\n",
    "df = fill_and_mark(df, 'LETO_IZG_STA', v)\n",
    "df = fill_and_mark(df, 'LETO_OBN_OKEN', v)\n",
    "df = fill_and_mark(df, 'LETO_OBN_STREHE', v)\n",
    "df = fill_and_mark(df, 'LETO_OBN_FASADE', v)"
   ]
  },
  {
   "cell_type": "code",
   "execution_count": 26,
   "metadata": {},
   "outputs": [],
   "source": [
    "for c in ['ID_TIP_STAVBE', 'ID_OGREVANJE', 'ID_KONSTRUKCIJE', 'DEJANSKA_RABA', 'TEMP_DEFICIT']:\n",
    "    v = df[c].median()\n",
    "    df = fill_and_mark(df, c, v)"
   ]
  },
  {
   "cell_type": "code",
   "execution_count": 27,
   "metadata": {},
   "outputs": [],
   "source": [
    "# Impute remaining missing values\n",
    "def imputer_kNeighbors(df, attrib_to_impute, reference, n_neighbors=3):\n",
    "\n",
    "    neigh = sklearn.neighbors.KNeighborsRegressor(n_neighbors=n_neighbors)\n",
    "\n",
    "    y = df[df[attrib_to_impute] > 0][attrib_to_impute]\n",
    "    x = df[df[attrib_to_impute] > 0][reference].values.reshape(-1, 1)\n",
    "\n",
    "    neigh.fit(x, y)\n",
    "\n",
    "    x_missing = df[df[attrib_to_impute].isna()][reference].values.reshape(-1, 1)\n",
    "    imputed_values = neigh.predict(x_missing)\n",
    "    # df.loc[df['attrib_to_impute'].isna(), 'attrib_to_impute'] = imputed_values\n",
    "    return imputed_values"
   ]
  },
  {
   "cell_type": "code",
   "execution_count": 28,
   "metadata": {},
   "outputs": [],
   "source": [
    "df.loc[df['ST_ETAZ'].isna(), 'ST_ETAZ'] = (\n",
    "    imputer_kNeighbors(df, attrib_to_impute='ST_ETAZ', reference='NETO_TLORIS', n_neighbors=3)\n",
    ")\n",
    "\n",
    "df.loc[df['ST_PRIT_ETAZE'].isna(), 'ST_PRIT_ETAZE'] = (\n",
    "    imputer_kNeighbors(df, attrib_to_impute='ST_PRIT_ETAZE', reference='NETO_TLORIS', n_neighbors=3)\n",
    ")"
   ]
  },
  {
   "cell_type": "code",
   "execution_count": 29,
   "metadata": {},
   "outputs": [
    {
     "data": {
      "text/html": [
       "<div>\n",
       "<style scoped>\n",
       "    .dataframe tbody tr th:only-of-type {\n",
       "        vertical-align: middle;\n",
       "    }\n",
       "\n",
       "    .dataframe tbody tr th {\n",
       "        vertical-align: top;\n",
       "    }\n",
       "\n",
       "    .dataframe thead th {\n",
       "        text-align: right;\n",
       "    }\n",
       "</style>\n",
       "<table border=\"1\" class=\"dataframe\">\n",
       "  <thead>\n",
       "    <tr style=\"text-align: right;\">\n",
       "      <th></th>\n",
       "      <th>Missing Ratio</th>\n",
       "    </tr>\n",
       "  </thead>\n",
       "  <tbody>\n",
       "  </tbody>\n",
       "</table>\n",
       "</div>"
      ],
      "text/plain": [
       "Empty DataFrame\n",
       "Columns: [Missing Ratio]\n",
       "Index: []"
      ]
     },
     "execution_count": 29,
     "metadata": {},
     "output_type": "execute_result"
    }
   ],
   "source": [
    "all_data_na = (df.isnull().sum() / len(df)) * 100\n",
    "all_data_na = all_data_na.drop(all_data_na[all_data_na == 0].index).sort_values(ascending=False)[:]\n",
    "missing_data = pd.DataFrame({'Missing Ratio' :all_data_na})\n",
    "missing_data.head(20)"
   ]
  },
  {
   "cell_type": "markdown",
   "metadata": {},
   "source": [
    "## Engineer new variables"
   ]
  },
  {
   "cell_type": "code",
   "execution_count": 30,
   "metadata": {},
   "outputs": [],
   "source": [
    "# add variable to represent the share of the area dedicated to second holiday houses/apartments\n",
    "df['SHARE_HOLIDAY'] = delistavb[delistavb['ID_POCIT_RABA'] == 1622].groupby('STA_SID')['UPOR_POV_STAN'].sum()\n",
    "df['SHARE_HOLIDAY'] = df['SHARE_HOLIDAY'] / df['UPORABNA_POVRSINA']\n",
    "df['SHARE_HOLIDAY'].fillna(0, inplace=True)"
   ]
  },
  {
   "cell_type": "code",
   "execution_count": 31,
   "metadata": {},
   "outputs": [],
   "source": [
    "ORIGINAL_ATTRIBUTES = ['DEJANSKA_RABA',\n",
    "                       'ID_KONSTRUKCIJE',\n",
    "                       'ID_OGREVANJE']\n",
    "\n",
    "NEW_ATTRIBUTES = ['NAMENSKA_RABA',\n",
    "                  'MATERIAL_NOSILNE_KONSTRUKCIJE',\n",
    "                  'VRSTA_OGREVANJA']\n",
    "\n",
    "\n",
    "def decode_attributes(df):\n",
    "    ''' takes original categorical attributes from stavbe and produces new attributes\n",
    "    based on sifranti '''\n",
    "    for attrib, new_attrib in zip(ORIGINAL_ATTRIBUTES, NEW_ATTRIBUTES):\n",
    "        for i in df[attrib].dropna().unique():\n",
    "            df.at[df[attrib] == i, new_attrib] = sifranti[sifranti.ID == i]['IME'].values[0]\n",
    "\n",
    "    return df.drop(ORIGINAL_ATTRIBUTES, axis=1)\n",
    "\n",
    "df = decode_attributes(df)"
   ]
  },
  {
   "cell_type": "code",
   "execution_count": 32,
   "metadata": {},
   "outputs": [],
   "source": [
    "# make categorical values with one hot encoder\n",
    "def categorize(df, column):\n",
    "    df_ = df.copy()\n",
    "    cats = df_[column].unique()\n",
    "    for c, v in enumerate(cats):\n",
    "        new_col = column + '_' + str(c)\n",
    "        df_[new_col] = 0\n",
    "        df_.loc[df_[column] == v, new_col] = 1\n",
    "    return df_.drop(column, axis=1)"
   ]
  },
  {
   "cell_type": "code",
   "execution_count": 33,
   "metadata": {},
   "outputs": [],
   "source": [
    "# one hot encode category attributes\n",
    "columns_one_hot_encode = ['NAMENSKA_RABA',\n",
    "                          'MATERIAL_NOSILNE_KONSTRUKCIJE',\n",
    "                          'VRSTA_OGREVANJA',\n",
    "                          'ID_TIP_STAVBE']\n",
    "\n",
    "for c in columns_one_hot_encode:\n",
    "    df = categorize(df, column=c)"
   ]
  },
  {
   "cell_type": "markdown",
   "metadata": {},
   "source": [
    "# Create area use variables"
   ]
  },
  {
   "cell_type": "code",
   "execution_count": 34,
   "metadata": {},
   "outputs": [],
   "source": [
    "area_use_cols = sifranti.loc[sifranti.POLJE_PK == 'DEJANSKA_RABA']['IME']\n",
    "for c in area_use_cols:\n",
    "    df[c] = 0"
   ]
  },
  {
   "cell_type": "code",
   "execution_count": 35,
   "metadata": {},
   "outputs": [],
   "source": [
    "#areas_use = sifranti.loc[sifranti.POLJE_PK == 'DEJANSKA_RABA'][['ID', 'IME']]\n",
    "\n",
    "# drop STA_SID that are not in the final table\n",
    "delistavb = delistavb[delistavb.STA_SID.isin(df.index)]"
   ]
  },
  {
   "cell_type": "code",
   "execution_count": 36,
   "metadata": {},
   "outputs": [],
   "source": [
    "for r, c in zip(area_use_codes, area_use_columns):\n",
    "    tmp = delistavb.loc[delistavb.DEJANSKA_RABA == r][['STA_SID', 'UPOR_POV_STAN']]\n",
    "    tmp = tmp.groupby('STA_SID')['UPOR_POV_STAN'].sum()\n",
    "    df.loc[tmp.index, c] = tmp.values\n",
    "    \n",
    "    # leaves out some building parts - for some reason results in higher R2\n",
    "    #tmp = delistavb.loc[delistavb.DEJANSKA_RABA == r][['STA_SID', 'UPOR_POV_STAN']]\n",
    "    #df.loc[tmp.STA_SID.values, c] = tmp['UPOR_POV_STAN'].values\n"
   ]
  },
  {
   "cell_type": "code",
   "execution_count": 37,
   "metadata": {},
   "outputs": [],
   "source": [
    "# sum up heated area\n",
    "ds = delistavb.loc[delistavb.DEJANSKA_RABA.isin(heated_area_codes)]\n",
    "df['HEATED_AREA'] = ds.groupby('STA_SID')['UPOR_POV_STAN'].sum()\n",
    "df.HEATED_AREA.fillna(0, inplace=True)"
   ]
  },
  {
   "cell_type": "markdown",
   "metadata": {},
   "source": [
    "# Save result"
   ]
  },
  {
   "cell_type": "code",
   "execution_count": 38,
   "metadata": {},
   "outputs": [
    {
     "data": {
      "text/html": [
       "<div>\n",
       "<style scoped>\n",
       "    .dataframe tbody tr th:only-of-type {\n",
       "        vertical-align: middle;\n",
       "    }\n",
       "\n",
       "    .dataframe tbody tr th {\n",
       "        vertical-align: top;\n",
       "    }\n",
       "\n",
       "    .dataframe thead th {\n",
       "        text-align: right;\n",
       "    }\n",
       "</style>\n",
       "<table border=\"1\" class=\"dataframe\">\n",
       "  <thead>\n",
       "    <tr style=\"text-align: right;\">\n",
       "      <th></th>\n",
       "      <th>Missing Ratio</th>\n",
       "    </tr>\n",
       "  </thead>\n",
       "  <tbody>\n",
       "  </tbody>\n",
       "</table>\n",
       "</div>"
      ],
      "text/plain": [
       "Empty DataFrame\n",
       "Columns: [Missing Ratio]\n",
       "Index: []"
      ]
     },
     "execution_count": 38,
     "metadata": {},
     "output_type": "execute_result"
    }
   ],
   "source": [
    "all_data_na = (df.isnull().sum() / len(df)) * 100\n",
    "all_data_na = all_data_na.drop(all_data_na[all_data_na == 0].index).sort_values(ascending=False)[:]\n",
    "missing_data = pd.DataFrame({'Missing Ratio' :all_data_na})\n",
    "missing_data.head(20)"
   ]
  },
  {
   "cell_type": "code",
   "execution_count": 39,
   "metadata": {},
   "outputs": [],
   "source": [
    "file_path = all_cities['root'] / model['gas_' + city_name]\n",
    "df.to_csv(\n",
    "    file_path,\n",
    ")"
   ]
  },
  {
   "cell_type": "code",
   "execution_count": 40,
   "metadata": {},
   "outputs": [],
   "source": [
    "d = df['ZP_gas']/df['HEATED_AREA']"
   ]
  },
  {
   "cell_type": "code",
   "execution_count": 41,
   "metadata": {},
   "outputs": [
    {
     "data": {
      "text/plain": [
       "48.146366664633526"
      ]
     },
     "execution_count": 41,
     "metadata": {},
     "output_type": "execute_result"
    }
   ],
   "source": [
    "d[(d>5) & (d<1400)].mean()"
   ]
  },
  {
   "cell_type": "code",
   "execution_count": 44,
   "metadata": {},
   "outputs": [
    {
     "data": {
      "text/plain": [
       "306473577"
      ]
     },
     "execution_count": 44,
     "metadata": {},
     "output_type": "execute_result"
    }
   ],
   "source": [
    "df.ZP_gas.sum()"
   ]
  },
  {
   "cell_type": "code",
   "execution_count": 45,
   "metadata": {},
   "outputs": [
    {
     "data": {
      "text/plain": [
       "1.0000596951951912"
      ]
     },
     "execution_count": 45,
     "metadata": {},
     "output_type": "execute_result"
    }
   ],
   "source": [
    "306491872/306473577"
   ]
  },
  {
   "cell_type": "code",
   "execution_count": null,
   "metadata": {},
   "outputs": [],
   "source": []
  }
 ],
 "metadata": {
  "kernelspec": {
   "display_name": "Python 3",
   "language": "python",
   "name": "python3"
  },
  "language_info": {
   "codemirror_mode": {
    "name": "ipython",
    "version": 3
   },
   "file_extension": ".py",
   "mimetype": "text/x-python",
   "name": "python",
   "nbconvert_exporter": "python",
   "pygments_lexer": "ipython3",
   "version": "3.6.4"
  }
 },
 "nbformat": 4,
 "nbformat_minor": 2
}
