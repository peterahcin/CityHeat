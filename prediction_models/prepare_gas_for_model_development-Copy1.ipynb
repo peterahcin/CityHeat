{
 "cells": [
  {
   "cell_type": "code",
   "execution_count": 103,
   "metadata": {},
   "outputs": [],
   "source": [
    "import pandas as pd\n",
    "import numpy as np\n",
    "from pathlib import Path\n",
    "import sklearn.neighbors\n",
    "import sys\n",
    "# these paths probably belong in a settings file or simillar. \n",
    "# Also try and stick to import first then executable code\n",
    "sys.path.append('C:/Users/petera/Documents/Envirodual/paths')\n",
    "sys.path.append('C:/Users/petera/Documents/Envirodual/values')\n",
    "sys.path.append('C:/Users/petera/Documents/Envirodual/utils')\n",
    "from path_definition import all_cities, city_paths, model\n",
    "from preprocessing import one_hot_encode_column, decode_column\n",
    "from values import OB_MID_dict, area_use_codes, area_use_columns, heated_area_codes\n",
    "import warnings\n",
    "warnings.filterwarnings('ignore')"
   ]
  },
  {
   "cell_type": "code",
   "execution_count": 104,
   "metadata": {},
   "outputs": [],
   "source": [
    "city_name = 'ljubljana'\n",
    "OB_MID = OB_MID_dict[city_name]\n",
    "paths = city_paths[city_name]"
   ]
  },
  {
   "cell_type": "markdown",
   "metadata": {},
   "source": [
    "## Read REN data"
   ]
  },
  {
   "cell_type": "code",
   "execution_count": 105,
   "metadata": {},
   "outputs": [],
   "source": [
    "# columns to load from tables\n",
    "cols_stavbe = ['STA_SID',\n",
    "               'OB_MID',\n",
    "               'ST_ETAZ',\n",
    "               'ST_PRIT_ETAZE',\n",
    "               'ST_STANOVANJ',\n",
    "               'ST_POSLOVNIH_PROSTOROV',\n",
    "               'DEJANSKA_RABA',\n",
    "               'ID_TIP_STAVBE',\n",
    "               'LETO_IZG_STA',\n",
    "               'LETO_OBN_STREHE',\n",
    "               'LETO_OBN_FASADE',\n",
    "               'ID_KONSTRUKCIJE',\n",
    "               'ID_OGREVANJE']"
   ]
  },
  {
   "cell_type": "code",
   "execution_count": 106,
   "metadata": {},
   "outputs": [],
   "source": [
    "# read stavbe\n",
    "stavbe_path = all_cities['root'] / all_cities['stavbe']\n",
    "stavbe = pd.read_csv(\n",
    "    stavbe_path,\n",
    "    usecols=cols_stavbe,\n",
    "    index_col='STA_SID',\n",
    "    # encoding='cp1250',\n",
    "    sep=';'\n",
    ")\n",
    "\n",
    "# keep only current municipality\n",
    "stavbe = stavbe[stavbe.OB_MID.eq(OB_MID)]"
   ]
  },
  {
   "cell_type": "code",
   "execution_count": 107,
   "metadata": {},
   "outputs": [],
   "source": [
    "cols_delistavb = ['STA_SID',\n",
    "                  'DEJANSKA_RABA',\n",
    "                  'UPOR_POV_STAN',\n",
    "                  'NETO_TLORIS_POV_DST',\n",
    "                  'LETO_OBN_OKEN',\n",
    "                  'ID_POCIT_RABA']\n",
    "\n",
    "# read delistavb\n",
    "delistavb_path = all_cities['root'] / all_cities['delistavb']\n",
    "delistavb = pd.read_csv(\n",
    "    delistavb_path,\n",
    "    usecols=cols_delistavb,\n",
    "    # encoding='cp1250',\n",
    "    decimal=',',\n",
    "    sep=';'\n",
    ")\n",
    "delistavb = delistavb[delistavb.STA_SID.isin(stavbe.index.unique())]"
   ]
  },
  {
   "cell_type": "code",
   "execution_count": 108,
   "metadata": {},
   "outputs": [],
   "source": [
    "# read sifranti\n",
    "sifranti_path = all_cities['root'] / all_cities['sifranti']\n",
    "sifranti = pd.read_csv(\n",
    "    sifranti_path,\n",
    "    # encoding='cp1250',\n",
    "    sep=';'\n",
    ")"
   ]
  },
  {
   "cell_type": "markdown",
   "metadata": {},
   "source": [
    "# Temperature deficit"
   ]
  },
  {
   "cell_type": "code",
   "execution_count": 109,
   "metadata": {},
   "outputs": [],
   "source": [
    "file_path_temp_deficit = all_cities['root'] / all_cities['temperature_deficit_cleaned']\n",
    "temp_deficit = pd.read_csv(\n",
    "    file_path_temp_deficit,\n",
    "    index_col='STA_SID',\n",
    "    usecols=['TEMP_DEFICIT','STA_SID']\n",
    ")"
   ]
  },
  {
   "cell_type": "markdown",
   "metadata": {},
   "source": [
    "# Read gas data"
   ]
  },
  {
   "cell_type": "code",
   "execution_count": 110,
   "metadata": {},
   "outputs": [],
   "source": [
    "dtype = {'ZP': 'int', 'STA_SID': 'int'}\n",
    "file_path_gas = all_cities['root'] / paths['gas_cleaned']\n",
    "gas = pd.read_csv(\n",
    "    file_path_gas,\n",
    "    usecols=['ZP', 'STA_SID'],\n",
    "    dtype=dtype,\n",
    "    index_col='STA_SID'\n",
    ")"
   ]
  },
  {
   "cell_type": "code",
   "execution_count": 111,
   "metadata": {},
   "outputs": [],
   "source": [
    "df = gas.join(stavbe, how='inner').join(temp_deficit, how='left')"
   ]
  },
  {
   "cell_type": "code",
   "execution_count": 112,
   "metadata": {},
   "outputs": [
    {
     "data": {
      "text/plain": [
       "((1958, 1), (1957, 14))"
      ]
     },
     "execution_count": 112,
     "metadata": {},
     "output_type": "execute_result"
    }
   ],
   "source": [
    "gas.shape, df.shape"
   ]
  },
  {
   "cell_type": "markdown",
   "metadata": {},
   "source": [
    "# Missing data REN"
   ]
  },
  {
   "cell_type": "code",
   "execution_count": 113,
   "metadata": {},
   "outputs": [],
   "source": [
    "# drop entries where areas m2 not given\n",
    "delistavb.fillna(0, inplace=True)"
   ]
  },
  {
   "cell_type": "code",
   "execution_count": 114,
   "metadata": {},
   "outputs": [],
   "source": [
    "# collect total areas of building\n",
    "df['UPORABNA_POVRSINA'] = delistavb.groupby('STA_SID')['UPOR_POV_STAN'].sum()\n",
    "df['NETO_TLORIS'] = delistavb.groupby('STA_SID')['NETO_TLORIS_POV_DST'].sum()"
   ]
  },
  {
   "cell_type": "code",
   "execution_count": 115,
   "metadata": {},
   "outputs": [],
   "source": [
    "# drop nans\n",
    "df.dropna(subset=['UPORABNA_POVRSINA', 'NETO_TLORIS'], inplace=True)"
   ]
  },
  {
   "cell_type": "code",
   "execution_count": 116,
   "metadata": {},
   "outputs": [
    {
     "data": {
      "text/html": [
       "<div>\n",
       "<style scoped>\n",
       "    .dataframe tbody tr th:only-of-type {\n",
       "        vertical-align: middle;\n",
       "    }\n",
       "\n",
       "    .dataframe tbody tr th {\n",
       "        vertical-align: top;\n",
       "    }\n",
       "\n",
       "    .dataframe thead th {\n",
       "        text-align: right;\n",
       "    }\n",
       "</style>\n",
       "<table border=\"1\" class=\"dataframe\">\n",
       "  <thead>\n",
       "    <tr style=\"text-align: right;\">\n",
       "      <th></th>\n",
       "      <th>Missing Ratio</th>\n",
       "    </tr>\n",
       "  </thead>\n",
       "  <tbody>\n",
       "    <tr>\n",
       "      <th>LETO_OBN_FASADE</th>\n",
       "      <td>71.640266</td>\n",
       "    </tr>\n",
       "    <tr>\n",
       "      <th>LETO_OBN_STREHE</th>\n",
       "      <td>51.047522</td>\n",
       "    </tr>\n",
       "    <tr>\n",
       "      <th>TEMP_DEFICIT</th>\n",
       "      <td>15.125192</td>\n",
       "    </tr>\n",
       "    <tr>\n",
       "      <th>ID_TIP_STAVBE</th>\n",
       "      <td>0.306592</td>\n",
       "    </tr>\n",
       "    <tr>\n",
       "      <th>ST_PRIT_ETAZE</th>\n",
       "      <td>0.306592</td>\n",
       "    </tr>\n",
       "    <tr>\n",
       "      <th>ID_OGREVANJE</th>\n",
       "      <td>0.204394</td>\n",
       "    </tr>\n",
       "    <tr>\n",
       "      <th>ST_ETAZ</th>\n",
       "      <td>0.204394</td>\n",
       "    </tr>\n",
       "    <tr>\n",
       "      <th>ID_KONSTRUKCIJE</th>\n",
       "      <td>0.153296</td>\n",
       "    </tr>\n",
       "    <tr>\n",
       "      <th>LETO_IZG_STA</th>\n",
       "      <td>0.102197</td>\n",
       "    </tr>\n",
       "    <tr>\n",
       "      <th>DEJANSKA_RABA</th>\n",
       "      <td>0.102197</td>\n",
       "    </tr>\n",
       "  </tbody>\n",
       "</table>\n",
       "</div>"
      ],
      "text/plain": [
       "                 Missing Ratio\n",
       "LETO_OBN_FASADE      71.640266\n",
       "LETO_OBN_STREHE      51.047522\n",
       "TEMP_DEFICIT         15.125192\n",
       "ID_TIP_STAVBE         0.306592\n",
       "ST_PRIT_ETAZE         0.306592\n",
       "ID_OGREVANJE          0.204394\n",
       "ST_ETAZ               0.204394\n",
       "ID_KONSTRUKCIJE       0.153296\n",
       "LETO_IZG_STA          0.102197\n",
       "DEJANSKA_RABA         0.102197"
      ]
     },
     "execution_count": 116,
     "metadata": {},
     "output_type": "execute_result"
    }
   ],
   "source": [
    "# MISSING DATA\n",
    "all_data_na = (df.isnull().sum() / len(df)) * 100\n",
    "all_data_na = all_data_na.drop(all_data_na[all_data_na == 0].index).sort_values(ascending=False)[:]\n",
    "missing_data = pd.DataFrame({'Missing Ratio' :all_data_na})\n",
    "missing_data.head(20)"
   ]
  },
  {
   "cell_type": "code",
   "execution_count": 117,
   "metadata": {},
   "outputs": [],
   "source": [
    "# get mean windows age\n",
    "df['LETO_OBN_OKEN'] = delistavb[delistavb.LETO_OBN_OKEN>0].groupby('STA_SID')['LETO_OBN_OKEN'].median().astype(int)"
   ]
  },
  {
   "cell_type": "code",
   "execution_count": 118,
   "metadata": {},
   "outputs": [],
   "source": [
    "def fill_and_mark(df, column, value=0):\n",
    "    '''fills missing values and creates new column marking which entries have been filled'''\n",
    "    df_ = df.copy()\n",
    "    df_['NA_'+column] = 0\n",
    "    idx = df_[df_[column].isna()].index.astype('int32')\n",
    "    df_.loc[idx,'NA_'+column] = 1\n",
    "    df_[column].fillna(value, inplace=True)\n",
    "    return df_"
   ]
  },
  {
   "cell_type": "code",
   "execution_count": 119,
   "metadata": {},
   "outputs": [],
   "source": [
    "# If building rennovation year not given, set rennovation to construction year\n",
    "v = df['LETO_IZG_STA'].median()\n",
    "\n",
    "df = fill_and_mark(df, 'LETO_IZG_STA', v)\n",
    "#df = fill_and_mark(df, 'LETO_OBN_OKEN', v)\n",
    "#df = fill_and_mark(df, 'LETO_OBN_STREHE', v)\n",
    "#df = fill_and_mark(df, 'LETO_OBN_FASADE', v)"
   ]
  },
  {
   "cell_type": "code",
   "execution_count": 120,
   "metadata": {},
   "outputs": [],
   "source": [
    "for c in ['LETO_OBN_OKEN', 'LETO_OBN_STREHE', 'LETO_OBN_FASADE']:\n",
    "    df['NA_'+c] = 0\n",
    "    idx = (df[c].isna()) | (df[c]==0)\n",
    "    df.loc[idx,'NA_'+c] = 1\n",
    "    df.loc[idx, c] = df.loc[idx]['LETO_IZG_STA']"
   ]
  },
  {
   "cell_type": "code",
   "execution_count": 121,
   "metadata": {},
   "outputs": [],
   "source": [
    "for c in ['ID_TIP_STAVBE', 'ID_OGREVANJE', 'ID_KONSTRUKCIJE', 'DEJANSKA_RABA', 'TEMP_DEFICIT']:\n",
    "    v = df[c].median()\n",
    "    df = fill_and_mark(df, c, v)"
   ]
  },
  {
   "cell_type": "code",
   "execution_count": 122,
   "metadata": {},
   "outputs": [],
   "source": [
    "# Impute remaining missing values\n",
    "def imputer_kNeighbors(df, attrib_to_impute, reference, n_neighbors=3):\n",
    "\n",
    "    neigh = sklearn.neighbors.KNeighborsRegressor(n_neighbors=n_neighbors)\n",
    "\n",
    "    y = df[df[attrib_to_impute] > 0][attrib_to_impute]\n",
    "    x = df[df[attrib_to_impute] > 0][reference].values.reshape(-1, 1)\n",
    "\n",
    "    neigh.fit(x, y)\n",
    "\n",
    "    x_missing = df[df[attrib_to_impute].isna()][reference].values.reshape(-1, 1)\n",
    "    imputed_values = neigh.predict(x_missing)\n",
    "    # df.loc[df['attrib_to_impute'].isna(), 'attrib_to_impute'] = imputed_values\n",
    "    return imputed_values"
   ]
  },
  {
   "cell_type": "code",
   "execution_count": 123,
   "metadata": {},
   "outputs": [],
   "source": [
    "df.loc[df['ST_ETAZ'].isna(), 'ST_ETAZ'] = (\n",
    "    imputer_kNeighbors(df, attrib_to_impute='ST_ETAZ', reference='NETO_TLORIS', n_neighbors=3)\n",
    ")\n",
    "\n",
    "df.loc[df['ST_PRIT_ETAZE'].isna(), 'ST_PRIT_ETAZE'] = (\n",
    "    imputer_kNeighbors(df, attrib_to_impute='ST_PRIT_ETAZE', reference='NETO_TLORIS', n_neighbors=3)\n",
    ")"
   ]
  },
  {
   "cell_type": "code",
   "execution_count": 124,
   "metadata": {},
   "outputs": [
    {
     "data": {
      "text/html": [
       "<div>\n",
       "<style scoped>\n",
       "    .dataframe tbody tr th:only-of-type {\n",
       "        vertical-align: middle;\n",
       "    }\n",
       "\n",
       "    .dataframe tbody tr th {\n",
       "        vertical-align: top;\n",
       "    }\n",
       "\n",
       "    .dataframe thead th {\n",
       "        text-align: right;\n",
       "    }\n",
       "</style>\n",
       "<table border=\"1\" class=\"dataframe\">\n",
       "  <thead>\n",
       "    <tr style=\"text-align: right;\">\n",
       "      <th></th>\n",
       "      <th>Missing Ratio</th>\n",
       "    </tr>\n",
       "  </thead>\n",
       "  <tbody>\n",
       "  </tbody>\n",
       "</table>\n",
       "</div>"
      ],
      "text/plain": [
       "Empty DataFrame\n",
       "Columns: [Missing Ratio]\n",
       "Index: []"
      ]
     },
     "execution_count": 124,
     "metadata": {},
     "output_type": "execute_result"
    }
   ],
   "source": [
    "all_data_na = (df.isnull().sum() / len(df)) * 100\n",
    "all_data_na = all_data_na.drop(all_data_na[all_data_na == 0].index).sort_values(ascending=False)[:]\n",
    "missing_data = pd.DataFrame({'Missing Ratio' :all_data_na})\n",
    "missing_data.head(20)"
   ]
  },
  {
   "cell_type": "markdown",
   "metadata": {},
   "source": [
    "## Engineer new variables"
   ]
  },
  {
   "cell_type": "code",
   "execution_count": 125,
   "metadata": {},
   "outputs": [],
   "source": [
    "# add variable to represent the share of the area dedicated to second holiday houses/apartments\n",
    "df['SHARE_HOLIDAY'] = delistavb[delistavb['ID_POCIT_RABA'] == 1622].groupby('STA_SID')['UPOR_POV_STAN'].sum()\n",
    "df['SHARE_HOLIDAY'] = df['SHARE_HOLIDAY'] / df['UPORABNA_POVRSINA']\n",
    "df['SHARE_HOLIDAY'].fillna(0, inplace=True)"
   ]
  },
  {
   "cell_type": "code",
   "execution_count": 126,
   "metadata": {},
   "outputs": [],
   "source": [
    "columns_one_hot_encode = ['ID_TIP_STAVBE',\n",
    "                          'DEJANSKA_RABA',\n",
    "                          'ID_KONSTRUKCIJE',\n",
    "                          'ID_OGREVANJE']\n",
    "\n",
    "# decode columns\n",
    "for col in columns_one_hot_encode:\n",
    "    codes = df[col].unique()\n",
    "    categories = sifranti.loc[sifranti.ID.isin(codes)]['IME'].values\n",
    "    d = dict(zip(codes, categories))\n",
    "    df = decode_column(df, col, d)\n",
    "\n",
    "for c in columns_one_hot_encode:\n",
    "    df = one_hot_encode_column(df, column=c)"
   ]
  },
  {
   "cell_type": "markdown",
   "metadata": {},
   "source": [
    "# Create area use variables"
   ]
  },
  {
   "cell_type": "code",
   "execution_count": 127,
   "metadata": {},
   "outputs": [],
   "source": [
    "area_use_cols = sifranti.loc[sifranti.POLJE_PK == 'DEJANSKA_RABA']['IME']\n",
    "for c in area_use_cols:\n",
    "    df[c] = 0"
   ]
  },
  {
   "cell_type": "code",
   "execution_count": 128,
   "metadata": {},
   "outputs": [],
   "source": [
    "#areas_use = sifranti.loc[sifranti.POLJE_PK == 'DEJANSKA_RABA'][['ID', 'IME']]\n",
    "\n",
    "# drop STA_SID that are not in the final table\n",
    "delistavb = delistavb[delistavb.STA_SID.isin(df.index)]"
   ]
  },
  {
   "cell_type": "code",
   "execution_count": 129,
   "metadata": {},
   "outputs": [],
   "source": [
    "for r, c in zip(area_use_codes, area_use_columns):\n",
    "    tmp = delistavb.loc[delistavb.DEJANSKA_RABA == r][['STA_SID', 'UPOR_POV_STAN']]\n",
    "    tmp = tmp.groupby('STA_SID')['UPOR_POV_STAN'].sum()\n",
    "    df.loc[tmp.index, c] = tmp.values"
   ]
  },
  {
   "cell_type": "code",
   "execution_count": 130,
   "metadata": {},
   "outputs": [],
   "source": [
    "# sum up heated area\n",
    "ds = delistavb.loc[delistavb.DEJANSKA_RABA.isin(heated_area_codes)]\n",
    "df['HEATED_AREA'] = ds.groupby('STA_SID')['UPOR_POV_STAN'].sum()\n",
    "df.HEATED_AREA.fillna(0, inplace=True)"
   ]
  },
  {
   "cell_type": "markdown",
   "metadata": {},
   "source": [
    "# Save result"
   ]
  },
  {
   "cell_type": "code",
   "execution_count": 131,
   "metadata": {},
   "outputs": [
    {
     "data": {
      "text/html": [
       "<div>\n",
       "<style scoped>\n",
       "    .dataframe tbody tr th:only-of-type {\n",
       "        vertical-align: middle;\n",
       "    }\n",
       "\n",
       "    .dataframe tbody tr th {\n",
       "        vertical-align: top;\n",
       "    }\n",
       "\n",
       "    .dataframe thead th {\n",
       "        text-align: right;\n",
       "    }\n",
       "</style>\n",
       "<table border=\"1\" class=\"dataframe\">\n",
       "  <thead>\n",
       "    <tr style=\"text-align: right;\">\n",
       "      <th></th>\n",
       "      <th>Missing Ratio</th>\n",
       "    </tr>\n",
       "  </thead>\n",
       "  <tbody>\n",
       "  </tbody>\n",
       "</table>\n",
       "</div>"
      ],
      "text/plain": [
       "Empty DataFrame\n",
       "Columns: [Missing Ratio]\n",
       "Index: []"
      ]
     },
     "execution_count": 131,
     "metadata": {},
     "output_type": "execute_result"
    }
   ],
   "source": [
    "all_data_na = (df.isnull().sum() / len(df)) * 100\n",
    "all_data_na = all_data_na.drop(all_data_na[all_data_na == 0].index).sort_values(ascending=False)[:]\n",
    "missing_data = pd.DataFrame({'Missing Ratio' :all_data_na})\n",
    "missing_data.head(20)"
   ]
  },
  {
   "cell_type": "code",
   "execution_count": 132,
   "metadata": {},
   "outputs": [],
   "source": [
    "file_path = all_cities['root'] / model['gas_' + city_name]\n",
    "df.to_csv(\n",
    "    file_path,\n",
    ")"
   ]
  },
  {
   "cell_type": "code",
   "execution_count": 133,
   "metadata": {},
   "outputs": [],
   "source": [
    "d = df['ZP']/df['UPORABNA_POVRSINA']"
   ]
  },
  {
   "cell_type": "code",
   "execution_count": 134,
   "metadata": {},
   "outputs": [
    {
     "data": {
      "text/plain": [
       "131.46343655939418"
      ]
     },
     "execution_count": 134,
     "metadata": {},
     "output_type": "execute_result"
    }
   ],
   "source": [
    "d[(d>5) & (d<1300)].mean() # Ljubljana 158.64 kWh"
   ]
  },
  {
   "cell_type": "code",
   "execution_count": 135,
   "metadata": {},
   "outputs": [
    {
     "data": {
      "text/plain": [
       "708843.6"
      ]
     },
     "execution_count": 135,
     "metadata": {},
     "output_type": "execute_result"
    }
   ],
   "source": [
    "df.UPORABNA_POVRSINA.sum() # 7 752 556.6"
   ]
  },
  {
   "cell_type": "code",
   "execution_count": 5,
   "metadata": {},
   "outputs": [
    {
     "ename": "NameError",
     "evalue": "name 'df' is not defined",
     "output_type": "error",
     "traceback": [
      "\u001b[1;31m---------------------------------------------------------------------------\u001b[0m",
      "\u001b[1;31mNameError\u001b[0m                                 Traceback (most recent call last)",
      "\u001b[1;32m<ipython-input-5-dff736dcb427>\u001b[0m in \u001b[0;36m<module>\u001b[1;34m()\u001b[0m\n\u001b[1;32m----> 1\u001b[1;33m \u001b[0mdf\u001b[0m\u001b[1;33m.\u001b[0m\u001b[0mhead\u001b[0m\u001b[1;33m(\u001b[0m\u001b[1;36m10\u001b[0m\u001b[1;33m)\u001b[0m\u001b[1;33m.\u001b[0m\u001b[0mT\u001b[0m\u001b[1;33m\u001b[0m\u001b[0m\n\u001b[0m",
      "\u001b[1;31mNameError\u001b[0m: name 'df' is not defined"
     ]
    }
   ],
   "source": [
    "df.head(10).T"
   ]
  },
  {
   "cell_type": "code",
   "execution_count": 4,
   "metadata": {},
   "outputs": [
    {
     "ename": "NameError",
     "evalue": "name 'df' is not defined",
     "output_type": "error",
     "traceback": [
      "\u001b[1;31m---------------------------------------------------------------------------\u001b[0m",
      "\u001b[1;31mNameError\u001b[0m                                 Traceback (most recent call last)",
      "\u001b[1;32m<ipython-input-4-b62128864c53>\u001b[0m in \u001b[0;36m<module>\u001b[1;34m()\u001b[0m\n\u001b[1;32m----> 1\u001b[1;33m \u001b[0mdf\u001b[0m\u001b[1;33m.\u001b[0m\u001b[0mNA_ID_OGREVANJE\u001b[0m\u001b[1;33m.\u001b[0m\u001b[0many\u001b[0m\u001b[1;33m(\u001b[0m\u001b[1;33m)\u001b[0m\u001b[1;33m\u001b[0m\u001b[0m\n\u001b[0m",
      "\u001b[1;31mNameError\u001b[0m: name 'df' is not defined"
     ]
    }
   ],
   "source": [
    "df.NA_ID_OGREVANJE.any()"
   ]
  },
  {
   "cell_type": "code",
   "execution_count": null,
   "metadata": {},
   "outputs": [],
   "source": []
  }
 ],
 "metadata": {
  "kernelspec": {
   "display_name": "Python 3",
   "language": "python",
   "name": "python3"
  },
  "language_info": {
   "codemirror_mode": {
    "name": "ipython",
    "version": 3
   },
   "file_extension": ".py",
   "mimetype": "text/x-python",
   "name": "python",
   "nbconvert_exporter": "python",
   "pygments_lexer": "ipython3",
   "version": "3.6.4"
  },
  "pycharm": {
   "stem_cell": {
    "cell_type": "raw",
    "source": [],
    "metadata": {
     "collapsed": false
    }
   }
  }
 },
 "nbformat": 4,
 "nbformat_minor": 2
}